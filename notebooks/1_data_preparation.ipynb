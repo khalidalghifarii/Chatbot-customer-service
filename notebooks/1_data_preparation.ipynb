{
 "cells": [
  {
   "cell_type": "markdown",
   "metadata": {},
   "source": [
    "# Data Preparation untuk Customer Service Chatbot\n",
    "\n",
    "Notebook ini akan memproses dan menganalisis data untuk training chatbot customer service. Proses meliputi:\n",
    "1. Loading data dari YAML files\n",
    "2. Text preprocessing\n",
    "3. Analisis dan visualisasi data\n",
    "4. Persiapan data untuk training"
   ]
  },
  {
   "cell_type": "code",
   "execution_count": 14,
   "metadata": {},
   "outputs": [
    {
     "name": "stderr",
     "output_type": "stream",
     "text": [
      "[nltk_data] Downloading package punkt to\n",
      "[nltk_data]     /Users/muhammadkhalidalghifari/nltk_data...\n",
      "[nltk_data]   Package punkt is already up-to-date!\n",
      "[nltk_data] Downloading package stopwords to\n",
      "[nltk_data]     /Users/muhammadkhalidalghifari/nltk_data...\n",
      "[nltk_data]   Package stopwords is already up-to-date!\n"
     ]
    }
   ],
   "source": [
    "import os\n",
    "import yaml\n",
    "import pandas as pd\n",
    "import numpy as np\n",
    "import matplotlib.pyplot as plt\n",
    "import seaborn as sns\n",
    "from collections import Counter\n",
    "import re\n",
    "from tqdm import tqdm\n",
    "import nltk\n",
    "from nltk.tokenize import word_tokenize\n",
    "from nltk.corpus import stopwords\n",
    "import collections.abc\n",
    "collections.Hashable = collections.abc.Hashable\n",
    "\n",
    "\n",
    "# Download NLTK data\n",
    "nltk.download('punkt')\n",
    "nltk.download('stopwords')\n",
    "\n",
    "# Atur gaya Seaborn untuk visualisasi\n",
    "sns.set()  # Gaya visualisasi Seaborn\n",
    "sns.set_palette(\"husl\")  # Palet warna"
   ]
  },
  {
   "cell_type": "code",
   "execution_count": 30,
   "metadata": {},
   "outputs": [
    {
     "name": "stdout",
     "output_type": "stream",
     "text": [
      "Initializing data loading...\n",
      "Looking for data in: /Users/muhammadkhalidalghifari/Library/Mobile Documents/com~apple~CloudDocs/AI/CHATBOT/notebooks/chatterbot_corpus/data\n",
      "ERROR: Data directory not found at /Users/muhammadkhalidalghifari/Library/Mobile Documents/com~apple~CloudDocs/AI/CHATBOT/notebooks/chatterbot_corpus/data\n",
      "Please check if the path is correct and the data directory exists\n"
     ]
    }
   ],
   "source": [
    "def get_project_root():\n",
    "    \"\"\"Get the project root directory.\"\"\"\n",
    "    # Sesuaikan dengan struktur folder Anda\n",
    "    current_dir = os.getcwd()  # Dapatkan direktori saat ini\n",
    "    return current_dir\n",
    "\n",
    "def load_data_with_path():\n",
    "    # Dapatkan path root proyek\n",
    "    project_root = get_project_root()\n",
    "    \n",
    "    # Construct path to data directory\n",
    "    base_path = os.path.join(project_root, \"chatterbot_corpus\", \"data\")\n",
    "    print(f\"Looking for data in: {base_path}\")\n",
    "    \n",
    "    # Verifikasi path\n",
    "    if not os.path.exists(base_path):\n",
    "        print(f\"ERROR: Data directory not found at {base_path}\")\n",
    "        print(\"Please check if the path is correct and the data directory exists\")\n",
    "        return None\n",
    "    \n",
    "    print(\"\\nStarting data loading process...\")\n",
    "    return load_all_data(base_path)\n",
    "\n",
    "# Load data\n",
    "print(\"Initializing data loading...\")\n",
    "df = load_data_with_path()\n",
    "\n",
    "if df is not None and len(df) > 0:\n",
    "    # Split data and continue with training\n",
    "    from sklearn.model_selection import train_test_split\n",
    "    \n",
    "    # Split into train and test first\n",
    "    train_df, test_df = train_test_split(df, test_size=0.2, random_state=42)\n",
    "    # Split train into train and validation\n",
    "    train_df, val_df = train_test_split(train_df, test_size=0.1, random_state=42)\n",
    "    \n",
    "    print(\"\\nData split sizes:\")\n",
    "    print(f\"Training set: {len(train_df)} samples\")\n",
    "    print(f\"Validation set: {len(val_df)} samples\")\n",
    "    print(f\"Test set: {len(test_df)} samples\")"
   ]
  },
  {
   "cell_type": "markdown",
   "metadata": {},
   "source": [
    "## 1. Data Loading"
   ]
  },
  {
   "cell_type": "code",
   "execution_count": null,
   "metadata": {},
   "outputs": [
    {
     "name": "stdout",
     "output_type": "stream",
     "text": [
      "Loading data from all languages...\n",
      "Path not found: chatterbot_corpus/data/indonesian\n"
     ]
    }
   ],
   "source": [
    "def load_yaml_file(file_path):\n",
    "    \"\"\"Load single YAML file and extract conversations.\"\"\"\n",
    "    try:\n",
    "        with open(file_path, 'r', encoding='utf-8') as file:\n",
    "            data = yaml.safe_load(file)\n",
    "            \n",
    "            if not data or 'conversations' not in data:\n",
    "                print(f\"No conversations found in {file_path}\")\n",
    "                return []\n",
    "            \n",
    "            # Get category from YAML data\n",
    "            category = data.get('categories', ['uncategorized'])[0]\n",
    "            conversations = data['conversations']\n",
    "            \n",
    "            qa_pairs = []\n",
    "            for conversation in conversations:\n",
    "                if isinstance(conversation, list) and len(conversation) >= 2:\n",
    "                    qa_pairs.append({\n",
    "                        'question': conversation[0],\n",
    "                        'answer': conversation[1],\n",
    "                        'category': category\n",
    "                    })\n",
    "            \n",
    "            print(f\"Loaded {len(qa_pairs)} QA pairs from {os.path.basename(file_path)}\")\n",
    "            return qa_pairs\n",
    "    except Exception as e:\n",
    "        print(f\"Error loading {file_path}: {str(e)}\")\n",
    "        return []\n",
    "\n",
    "def load_all_data(base_path):\n",
    "    \"\"\"Load all YAML files recursively.\"\"\"\n",
    "    all_qa_pairs = []\n",
    "    \n",
    "    # Pastikan path ada\n",
    "    if not os.path.exists(base_path):\n",
    "        print(f\"Path not found: {base_path}\")\n",
    "        return pd.DataFrame()\n",
    "    \n",
    "    # Load semua file YAML\n",
    "    for root, _, files in os.walk(base_path):\n",
    "        for file in files:\n",
    "            if file.endswith(('.yml', '.yaml')):\n",
    "                file_path = os.path.join(root, file)\n",
    "                print(f\"\\nProcessing: {file}\")\n",
    "                qa_pairs = load_yaml_file(file_path)\n",
    "                all_qa_pairs.extend(qa_pairs)\n",
    "    \n",
    "    # Convert to DataFrame\n",
    "    df = pd.DataFrame(all_qa_pairs)\n",
    "    \n",
    "    if len(df) > 0:\n",
    "        print(f\"\\nTotal QA pairs loaded: {len(df)}\")\n",
    "        print(f\"Columns: {df.columns.tolist()}\")\n",
    "        print(\"\\nSample data:\")\n",
    "        print(df.head(2))\n",
    "    else:\n",
    "        print(\"\\nNo data loaded!\")\n",
    "        \n",
    "    return df"
   ]
  },
  {
   "cell_type": "markdown",
   "metadata": {},
   "source": [
    "## 2. Data Analysis & Visualization"
   ]
  },
  {
   "cell_type": "code",
   "execution_count": 27,
   "metadata": {},
   "outputs": [
    {
     "name": "stdout",
     "output_type": "stream",
     "text": [
      "Loading data from: /Users/muhammadkhalidalghifari/Library/Mobile Documents/com~apple~CloudDocs/AI/CHATBOT/chatterbot_corpus/data/indonesian\n",
      "\n",
      "No data loaded!\n"
     ]
    }
   ],
   "source": [
    "def analyze_data_distribution(df):\n",
    "    \"\"\"Analyze and visualize data distribution.\"\"\"\n",
    "    if len(df) == 0:\n",
    "        print(\"No data to analyze!\")\n",
    "        return\n",
    "    \n",
    "    # Buat figure dengan ukuran yang sesuai\n",
    "    plt.figure(figsize=(15, 12))\n",
    "    \n",
    "    # Plot 1: Distribution by category\n",
    "    plt.subplot(2, 2, 1)\n",
    "    sns.countplot(data=df, y='category')\n",
    "    plt.title('Distribution of QA Pairs by Category', pad=20)\n",
    "    plt.xlabel('Number of Pairs')\n",
    "    \n",
    "    # Plot 2: Question length distribution\n",
    "    plt.subplot(2, 2, 2)\n",
    "    df['question_length'] = df['question'].str.len()\n",
    "    sns.histplot(data=df, x='question_length', bins=30)\n",
    "    plt.title('Question Length Distribution', pad=20)\n",
    "    plt.xlabel('Number of Characters')\n",
    "    \n",
    "    # Plot 3: Answer length distribution\n",
    "    plt.subplot(2, 2, 3)\n",
    "    df['answer_length'] = df['answer'].str.len()\n",
    "    sns.histplot(data=df, x='answer_length', bins=30)\n",
    "    plt.title('Answer Length Distribution', pad=20)\n",
    "    plt.xlabel('Number of Characters')\n",
    "    \n",
    "    # Plot 4: Question vs Answer length\n",
    "    plt.subplot(2, 2, 4)\n",
    "    sns.scatterplot(data=df, x='question_length', y='answer_length', alpha=0.5)\n",
    "    plt.title('Question vs Answer Length', pad=20)\n",
    "    plt.xlabel('Question Length (characters)')\n",
    "    plt.ylabel('Answer Length (characters)')\n",
    "    \n",
    "    # Adjust layout\n",
    "    plt.tight_layout(pad=3.0)\n",
    "    plt.show()\n",
    "    \n",
    "    # Print statistics\n",
    "    print(\"\\nDataset Statistics:\")\n",
    "    print(\"-\" * 50)\n",
    "    print(f\"Total QA Pairs: {len(df)}\")\n",
    "    print(f\"Number of Categories: {len(df['category'].unique())}\")\n",
    "    print(\"\\nCategory Distribution:\")\n",
    "    print(df['category'].value_counts())\n",
    "    print(\"\\nLength Statistics:\")\n",
    "    print(\"\\nQuestions:\")\n",
    "    print(df['question_length'].describe().round(2))\n",
    "    print(\"\\nAnswers:\")\n",
    "    print(df['answer_length'].describe().round(2))\n",
    "\n",
    "# Set the correct path\n",
    "base_path = \"/Users/muhammadkhalidalghifari/Library/Mobile Documents/com~apple~CloudDocs/AI/CHATBOT/chatterbot_corpus/data/indonesian\"\n",
    "\n",
    "# Load and analyze data\n",
    "print(\"Loading data from:\", base_path)\n",
    "df = load_all_data(base_path)\n",
    "\n",
    "if len(df) > 0:\n",
    "    print(\"\\nAnalyzing data distribution...\")\n",
    "    analyze_data_distribution(df)"
   ]
  },
  {
   "cell_type": "code",
   "execution_count": 22,
   "metadata": {},
   "outputs": [
    {
     "data": {
      "image/png": "[encoded data removed]",
      "text/plain": [
       "<Figure size 1500x500 with 2 Axes>"
      ]
     },
     "metadata": {},
     "output_type": "display_data"
    }
   ],
   "source": [
    "def analyze_word_frequencies(df):\n",
    "    \"\"\"Analyze and visualize word frequencies.\"\"\"\n",
    "    def get_word_freq(texts):\n",
    "        words = []\n",
    "        for text in texts:\n",
    "            words.extend(word_tokenize(text.lower()))\n",
    "        return Counter(words)\n",
    "    \n",
    "    # Get frequencies\n",
    "    question_freq = get_word_freq(df['question'])\n",
    "    answer_freq = get_word_freq(df['answer'])\n",
    "    \n",
    "    # Plot\n",
    "    plt.figure(figsize=(15, 5))\n",
    "    \n",
    "    # Questions word frequency\n",
    "    plt.subplot(1, 2, 1)\n",
    "    words, counts = zip(*question_freq.most_common(15))\n",
    "    sns.barplot(x=list(counts), y=list(words))\n",
    "    plt.title('Most Common Words in Questions')\n",
    "    plt.xlabel('Frequency')\n",
    "    \n",
    "    # Answers word frequency\n",
    "    plt.subplot(1, 2, 2)\n",
    "    words, counts = zip(*answer_freq.most_common(15))\n",
    "    sns.barplot(x=list(counts), y=list(words))\n",
    "    plt.title('Most Common Words in Answers')\n",
    "    plt.xlabel('Frequency')\n",
    "    \n",
    "    plt.tight_layout()\n",
    "    plt.show()\n",
    "\n",
    "analyze_word_frequencies(df)"
   ]
  },
  {
   "cell_type": "markdown",
   "metadata": {},
   "source": [
    "## 3. Text Preprocessing"
   ]
  },
  {
   "cell_type": "code",
   "execution_count": 23,
   "metadata": {},
   "outputs": [
    {
     "name": "stdout",
     "output_type": "stream",
     "text": [
      "Sample of processed data:\n",
      "                       question            processed_question  \\\n",
      "0                    Cara retur                    cara retur   \n",
      "1          Bagaimana cara retur          bagaimana cara retur   \n",
      "2    Cara mengemas barang retur    cara mengemas barang retur   \n",
      "3      Berapa lama proses retur      berapa lama proses retur   \n",
      "4  Biaya retur ditanggung siapa  biaya retur ditanggung siapa   \n",
      "\n",
      "                                              answer  \\\n",
      "0  Untuk retur barang, silakan ikuti langkah beri...   \n",
      "1  Untuk retur barang, silakan ikuti langkah beri...   \n",
      "2  Panduan mengemas barang retur:\\n1. Gunakan kem...   \n",
      "3  Proses retur membutuhkan waktu 3-5 hari kerja ...   \n",
      "4  Ketentuan biaya retur:\\n1. Kesalahan produk/pe...   \n",
      "\n",
      "                                    processed_answer  \n",
      "0  untuk retur barang, silakan ikuti langkah beri...  \n",
      "1  untuk retur barang, silakan ikuti langkah beri...  \n",
      "2  panduan mengemas barang retur 1. gunakan kemas...  \n",
      "3  proses retur membutuhkan waktu 35 hari kerja s...  \n",
      "4  ketentuan biaya retur 1. kesalahan produkpenju...  \n"
     ]
    }
   ],
   "source": [
    "def preprocess_text(text):\n",
    "    \"\"\"Preprocess text for training.\"\"\"\n",
    "    # Convert to lowercase\n",
    "    text = text.lower()\n",
    "    \n",
    "    # Remove special characters but keep essential punctuation\n",
    "    text = re.sub(r'[^\\w\\s.,?!]', '', text)\n",
    "    \n",
    "    # Remove extra whitespace\n",
    "    text = ' '.join(text.split())\n",
    "    \n",
    "    return text\n",
    "\n",
    "# Apply preprocessing\n",
    "df['processed_question'] = df['question'].apply(preprocess_text)\n",
    "df['processed_answer'] = df['answer'].apply(preprocess_text)\n",
    "\n",
    "# Show sample of processed data\n",
    "print(\"Sample of processed data:\")\n",
    "print(df[['question', 'processed_question', 'answer', 'processed_answer']].head())"
   ]
  },
  {
   "cell_type": "markdown",
   "metadata": {},
   "source": [
    "## 4. Data Splitting"
   ]
  },
  {
   "cell_type": "code",
   "execution_count": 24,
   "metadata": {},
   "outputs": [
    {
     "name": "stdout",
     "output_type": "stream",
     "text": [
      "Training set size: 61\n",
      "Validation set size: 7\n",
      "Test set size: 8\n"
     ]
    },
    {
     "data": {
      "image/png": "[encoded data removed]",
      "text/plain": [
       "<Figure size 1000x500 with 1 Axes>"
      ]
     },
     "metadata": {},
     "output_type": "display_data"
    }
   ],
   "source": [
    "from sklearn.model_selection import train_test_split\n",
    "\n",
    "# First split: separate test set\n",
    "train_val_df, test_df = train_test_split(df, test_size=0.1, random_state=42)\n",
    "\n",
    "# Second split: separate validation set from training\n",
    "train_df, val_df = train_test_split(train_val_df, test_size=0.1, random_state=42)\n",
    "\n",
    "print(f\"Training set size: {len(train_df)}\")\n",
    "print(f\"Validation set size: {len(val_df)}\")\n",
    "print(f\"Test set size: {len(test_df)}\")\n",
    "\n",
    "# Visualize split distribution\n",
    "plt.figure(figsize=(10, 5))\n",
    "splits = ['Training', 'Validation', 'Test']\n",
    "sizes = [len(train_df), len(val_df), len(test_df)]\n",
    "\n",
    "plt.pie(sizes, labels=splits, autopct='%1.1f%%', startangle=90)\n",
    "plt.title('Data Split Distribution')\n",
    "plt.axis('equal')\n",
    "plt.show()"
   ]
  },
  {
   "cell_type": "markdown",
   "metadata": {},
   "source": [
    "## 5. Save Processed Data"
   ]
  },
  {
   "cell_type": "code",
   "execution_count": 25,
   "metadata": {},
   "outputs": [
    {
     "name": "stdout",
     "output_type": "stream",
     "text": [
      "Data saved successfully!\n"
     ]
    }
   ],
   "source": [
    "# Create processed data directory if it doesn't exist\n",
    "os.makedirs('data/processed', exist_ok=True)\n",
    "\n",
    "# Save processed datasets\n",
    "train_df.to_csv('data/processed/train.csv', index=False)\n",
    "val_df.to_csv('data/processed/validation.csv', index=False)\n",
    "test_df.to_csv('data/processed/test.csv', index=False)\n",
    "\n",
    "print(\"Data saved successfully!\")"
   ]
  }
 ],
 "metadata": {
  "kernelspec": {
   "display_name": "base",
   "language": "python",
   "name": "python3"
  },
  "language_info": {
   "codemirror_mode": {
    "name": "ipython",
    "version": 3
   },
   "file_extension": ".py",
   "mimetype": "text/x-python",
   "name": "python",
   "nbconvert_exporter": "python",
   "pygments_lexer": "ipython3",
   "version": "3.12.2"
  }
 },
 "nbformat": 4,
 "nbformat_minor": 2
}
