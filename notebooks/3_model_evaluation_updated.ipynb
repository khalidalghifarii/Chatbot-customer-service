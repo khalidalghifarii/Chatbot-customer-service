{
 "cells": [
  {
   "cell_type": "markdown",
   "id": "7785fe22",
   "metadata": {},
   "source": [
    "# Model Evaluation\n",
    "This notebook evaluates the LSTM model's performance."
   ]
  },
  {
   "cell_type": "code",
   "execution_count": null,
   "id": "5c97a556",
   "metadata": {},
   "outputs": [],
   "source": [
    "\n",
    "# Import required libraries\n",
    "import pandas as pd\n",
    "import matplotlib.pyplot as plt\n",
    "from sklearn.metrics import classification_report, confusion_matrix, accuracy_score\n",
    "import seaborn as sns\n",
    "import numpy as np\n",
    "\n",
    "# Placeholder for loading model predictions and true labels\n",
    "# Replace 'predictions' and 'true_labels' with actual data from your LSTM model\n",
    "true_labels = np.random.choice([0, 1], size=100)  # Example true labels (binary classification)\n",
    "predictions = np.random.choice([0, 1], size=100)  # Example predictions\n",
    "\n",
    "# Calculate metrics\n",
    "accuracy = accuracy_score(true_labels, predictions)\n",
    "report = classification_report(true_labels, predictions, target_names=['Class 0', 'Class 1'], output_dict=True)\n",
    "conf_matrix = confusion_matrix(true_labels, predictions)\n",
    "\n",
    "# Create classification report dataframe for display\n",
    "report_df = pd.DataFrame(report).transpose()\n",
    "\n",
    "# Display metrics\n",
    "print(f\"Accuracy: {accuracy:.2f}\")\n",
    "display(report_df)\n",
    "\n",
    "# Plot confusion matrix\n",
    "plt.figure(figsize=(8, 6))\n",
    "sns.heatmap(conf_matrix, annot=True, fmt='d', cmap='Blues', xticklabels=['Class 0', 'Class 1'], yticklabels=['Class 0', 'Class 1'])\n",
    "plt.title(\"Confusion Matrix\")\n",
    "plt.xlabel(\"Predicted\")\n",
    "plt.ylabel(\"Actual\")\n",
    "plt.show()\n"
   ]
  }
 ],
 "metadata": {},
 "nbformat": 4,
 "nbformat_minor": 5
}
